{
  "nbformat": 4,
  "nbformat_minor": 0,
  "metadata": {
    "colab": {
      "name": "Untitled5.ipynb",
      "provenance": [],
      "collapsed_sections": [],
      "include_colab_link": true
    },
    "kernelspec": {
      "name": "python3",
      "display_name": "Python 3"
    },
    "accelerator": "TPU"
  },
  "cells": [
    {
      "cell_type": "markdown",
      "metadata": {
        "id": "view-in-github",
        "colab_type": "text"
      },
      "source": [
        "<a href=\"https://colab.research.google.com/github/zzzevaka/qlearn/blob/master/Test.ipynb\" target=\"_parent\"><img src=\"https://colab.research.google.com/assets/colab-badge.svg\" alt=\"Open In Colab\"/></a>"
      ]
    },
    {
      "cell_type": "code",
      "metadata": {
        "id": "61FkfULPOxC-",
        "colab_type": "code",
        "colab": {
          "base_uri": "https://localhost:8080/",
          "height": 119
        },
        "outputId": "f5a51eac-b745-4805-d154-581fbc30c9fa"
      },
      "source": [
        "!git clone https://github.com/zzzevaka/qlearn.git"
      ],
      "execution_count": 1,
      "outputs": [
        {
          "output_type": "stream",
          "text": [
            "Cloning into 'qlearn'...\n",
            "remote: Enumerating objects: 17, done.\u001b[K\n",
            "remote: Counting objects: 100% (17/17), done.\u001b[K\n",
            "remote: Compressing objects: 100% (13/13), done.\u001b[K\n",
            "remote: Total 17 (delta 3), reused 12 (delta 1), pack-reused 0\u001b[K\n",
            "Unpacking objects: 100% (17/17), done.\n"
          ],
          "name": "stdout"
        }
      ]
    },
    {
      "cell_type": "code",
      "metadata": {
        "id": "4QYAfHs7PQ2n",
        "colab_type": "code",
        "colab": {}
      },
      "source": [
        "import numpy as np\n",
        "import pandas as pd"
      ],
      "execution_count": 0,
      "outputs": []
    },
    {
      "cell_type": "code",
      "metadata": {
        "id": "nYNH3triO1vh",
        "colab_type": "code",
        "colab": {}
      },
      "source": [
        "from qlearn.agents.dqn_agent import DQNAgent\n",
        "from qlearn.envs.trading_env import TradingEnv"
      ],
      "execution_count": 0,
      "outputs": []
    },
    {
      "cell_type": "code",
      "metadata": {
        "id": "4WQLVrB9PDpI",
        "colab_type": "code",
        "colab": {}
      },
      "source": [
        "data = pd.read_csv('qlearn/brent.csv', index_col='index', parse_dates=['index'])"
      ],
      "execution_count": 0,
      "outputs": []
    },
    {
      "cell_type": "code",
      "metadata": {
        "id": "VRK41skqPT5L",
        "colab_type": "code",
        "colab": {
          "base_uri": "https://localhost:8080/",
          "height": 34
        },
        "outputId": "933151e8-0ed1-4eea-826c-9484ed5aecc5"
      },
      "source": [
        "diff_data = data.diff()[1:]\n",
        "def normalize(x):\n",
        "    for k, v in x.items():\n",
        "        if v < 0:\n",
        "            x[k] = 1\n",
        "        elif v > 0:\n",
        "            x[k] = 3\n",
        "        else:\n",
        "            x[k] = 2\n",
        "    return x\n",
        "\n",
        "diff_data = diff_data.apply(normalize, axis=1)\n",
        "diff_data.shape"
      ],
      "execution_count": 5,
      "outputs": [
        {
          "output_type": "execute_result",
          "data": {
            "text/plain": [
              "(107360, 5)"
            ]
          },
          "metadata": {
            "tags": []
          },
          "execution_count": 5
        }
      ]
    },
    {
      "cell_type": "code",
      "metadata": {
        "id": "K1-52Q5NPb1q",
        "colab_type": "code",
        "colab": {}
      },
      "source": [
        "def reshape_with_window(df, difference_values, columns, shape3d=False):\n",
        "    m, f = df.shape\n",
        "    columns = list(columns)\n",
        "    ret_df = df[columns].values\n",
        "    if shape3d:\n",
        "        ret_df = ret_df.reshape(m, 1, f)\n",
        "    max_diff_value = max(difference_values)\n",
        "    for t in difference_values:\n",
        "        new_columns = ['{}_{}'.format(c, t) for c in columns]\n",
        "        tmp_df = df.drop(columns, axis=1)\n",
        "        tmp_df[new_columns] = df[columns].shift(t)\n",
        "        tmp_df = tmp_df.values\n",
        "        if shape3d:\n",
        "            tmp_df = tmp_df.reshape(m, 1, f)\n",
        "        ret_df = np.hstack([tmp_df, ret_df])\n",
        "    return ret_df[max_diff_value:]"
      ],
      "execution_count": 0,
      "outputs": []
    },
    {
      "cell_type": "code",
      "metadata": {
        "id": "lyKe7itYPoAx",
        "colab_type": "code",
        "colab": {}
      },
      "source": [
        "reshape_columns = ['<OPEN>', '<HIGH>', '<LOW>', '<CLOSE>', '<VOL>']\n",
        "df = reshape_with_window(diff_data, [1,2,3,4,5,6,7], reshape_columns, True)"
      ],
      "execution_count": 0,
      "outputs": []
    },
    {
      "cell_type": "code",
      "metadata": {
        "id": "Q2XopgawPqqh",
        "colab_type": "code",
        "colab": {
          "base_uri": "https://localhost:8080/",
          "height": 51
        },
        "outputId": "f1001c22-e9a1-4f38-b80b-e914cc271c29"
      },
      "source": [
        "X = df[:-1]\n",
        "Y = diff_data[-df.shape[0]:]['<CLOSE>'][1:]\n",
        "\n",
        "print(X.shape)\n",
        "print(Y.shape)"
      ],
      "execution_count": 8,
      "outputs": [
        {
          "output_type": "stream",
          "text": [
            "(107352, 8, 5)\n",
            "(107352,)\n"
          ],
          "name": "stdout"
        }
      ]
    },
    {
      "cell_type": "code",
      "metadata": {
        "id": "XfLxwz_PPv_H",
        "colab_type": "code",
        "colab": {}
      },
      "source": [
        "from sklearn.model_selection import train_test_split\n",
        "X_train, X_test, Y_train, Y_test = train_test_split(X, Y, shuffle=False)"
      ],
      "execution_count": 0,
      "outputs": []
    },
    {
      "cell_type": "code",
      "metadata": {
        "id": "oOg1xdbEP6PF",
        "colab_type": "code",
        "colab": {}
      },
      "source": [
        "train_env = TradingEnv(X_train, Y_train, order_close_threshold=0.1, order_tax=0.015)\n",
        "state_size = train_env.observation_space.shape[1]\n",
        "action_size = train_env.action_space.n"
      ],
      "execution_count": 0,
      "outputs": []
    },
    {
      "cell_type": "code",
      "metadata": {
        "id": "WYrN517iP761",
        "colab_type": "code",
        "colab": {
          "base_uri": "https://localhost:8080/",
          "height": 88
        },
        "outputId": "aee88c97-0939-4bf7-e851-5425abcbc4af"
      },
      "source": [
        "from tensorflow.keras.models import Sequential\n",
        "from tensorflow.keras.layers import Dense, LSTM, Dropout, Flatten\n",
        "from tensorflow.keras.optimizers import Adam\n",
        "\n",
        "def create_model(df):\n",
        "    model = Sequential()\n",
        "    model.add(LSTM(20, input_shape=df.shape[1:]))\n",
        "    model.add(Dropout(0.1))\n",
        "    model.add(Flatten(input_shape=df.shape[1:]))\n",
        "    model.add(Dense(10, activation='relu'))\n",
        "    model.add(Dropout(0.1))\n",
        "    model.add(Dense(10, activation='relu'))\n",
        "    model.add(Dropout(0.1))\n",
        "    model.add(Dense(action_size, activation='softmax'))\n",
        "    model.compile(loss='mse', optimizer='Adam', metrics=['accuracy'])\n",
        "    \n",
        "    return model\n",
        "\n",
        "model = create_model(X_train)"
      ],
      "execution_count": 11,
      "outputs": [
        {
          "output_type": "stream",
          "text": [
            "WARNING:tensorflow:From /usr/local/lib/python3.6/dist-packages/tensorflow_core/python/ops/resource_variable_ops.py:1630: calling BaseResourceVariable.__init__ (from tensorflow.python.ops.resource_variable_ops) with constraint is deprecated and will be removed in a future version.\n",
            "Instructions for updating:\n",
            "If using Keras pass *_constraint arguments to layers.\n"
          ],
          "name": "stdout"
        }
      ]
    },
    {
      "cell_type": "code",
      "metadata": {
        "id": "seN0RWbXQBDM",
        "colab_type": "code",
        "colab": {
          "base_uri": "https://localhost:8080/",
          "height": 442
        },
        "outputId": "e4776ed9-4a4f-4728-aa3c-58d444494adc"
      },
      "source": [
        "agent = DQNAgent(model=model, action_size=action_size)"
      ],
      "execution_count": 12,
      "outputs": [
        {
          "output_type": "stream",
          "text": [
            "Model: \"sequential\"\n",
            "_________________________________________________________________\n",
            "Layer (type)                 Output Shape              Param #   \n",
            "=================================================================\n",
            "lstm (LSTM)                  (None, 20)                2080      \n",
            "_________________________________________________________________\n",
            "dropout (Dropout)            (None, 20)                0         \n",
            "_________________________________________________________________\n",
            "flatten (Flatten)            (None, 20)                0         \n",
            "_________________________________________________________________\n",
            "dense (Dense)                (None, 10)                210       \n",
            "_________________________________________________________________\n",
            "dropout_1 (Dropout)          (None, 10)                0         \n",
            "_________________________________________________________________\n",
            "dense_1 (Dense)              (None, 10)                110       \n",
            "_________________________________________________________________\n",
            "dropout_2 (Dropout)          (None, 10)                0         \n",
            "_________________________________________________________________\n",
            "dense_2 (Dense)              (None, 3)                 33        \n",
            "=================================================================\n",
            "Total params: 2,433\n",
            "Trainable params: 2,433\n",
            "Non-trainable params: 0\n",
            "_________________________________________________________________\n",
            "None\n"
          ],
          "name": "stdout"
        }
      ]
    },
    {
      "cell_type": "code",
      "metadata": {
        "id": "d9dMFLgAQDmM",
        "colab_type": "code",
        "colab": {}
      },
      "source": [
        "import logging\n",
        "logging.basicConfig(level=logging.INFO)"
      ],
      "execution_count": 0,
      "outputs": []
    },
    {
      "cell_type": "code",
      "metadata": {
        "id": "vJSz_9yzQNNy",
        "colab_type": "code",
        "colab": {
          "base_uri": "https://localhost:8080/",
          "height": 207
        },
        "outputId": "c81b084e-30d9-40d0-c171-060a591e67b6"
      },
      "source": [
        "EPISODES = 2\n",
        "BATCH_SIZE = 512\n",
        "\n",
        "for e in range(EPISODES):\n",
        "    state = train_env.reset()\n",
        "    actions = [0,0,0]\n",
        "    for step in range(train_env.n_step):\n",
        "        action = agent.act(state)\n",
        "        actions[action] += 1\n",
        "        next_state, reward, done, info = train_env.step(action)\n",
        "        agent.remember(state, action, reward, next_state, done)\n",
        "        \n",
        "        if done:\n",
        "            logging.info(f'episode: {e+1}/{EPISODES}, end value: {train_env.wallet_amount}. actions: {actions}')\n",
        "        if len(agent.memory) > BATCH_SIZE:\n",
        "            agent.replay(BATCH_SIZE)"
      ],
      "execution_count": 0,
      "outputs": [
        {
          "output_type": "stream",
          "text": [
            "/content/qlearn/envs/trading_env.py:129: RuntimeWarning: invalid value encountered in double_scalars\n",
            "  return profit / unit_count\n"
          ],
          "name": "stderr"
        },
        {
          "output_type": "stream",
          "text": [
            "WARNING:tensorflow:From /usr/local/lib/python3.6/dist-packages/tensorflow_core/python/ops/math_grad.py:1424: where (from tensorflow.python.ops.array_ops) is deprecated and will be removed in a future version.\n",
            "Instructions for updating:\n",
            "Use tf.where in 2.0, which has the same broadcast rule as np.where\n"
          ],
          "name": "stdout"
        },
        {
          "output_type": "stream",
          "text": [
            "WARNING:tensorflow:From /usr/local/lib/python3.6/dist-packages/tensorflow_core/python/ops/math_grad.py:1424: where (from tensorflow.python.ops.array_ops) is deprecated and will be removed in a future version.\n",
            "Instructions for updating:\n",
            "Use tf.where in 2.0, which has the same broadcast rule as np.where\n",
            "/content/qlearn/envs/trading_env.py:129: RuntimeWarning: invalid value encountered in double_scalars\n",
            "  return profit / unit_count\n"
          ],
          "name": "stderr"
        }
      ]
    },
    {
      "cell_type": "code",
      "metadata": {
        "id": "fEwDjcswQZFZ",
        "colab_type": "code",
        "colab": {}
      },
      "source": [
        ""
      ],
      "execution_count": 0,
      "outputs": []
    }
  ]
}